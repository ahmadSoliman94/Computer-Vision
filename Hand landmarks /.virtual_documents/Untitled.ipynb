import cv2 
import time 
import mediapipe as mp


# ==================== Hand Tracking ==================== #


# save the video
result = cv2.VideoWriter('./hand_tracking_mediapipe.avi', cv2.VideoWriter_fourcc(*'MJPG'), 10, (640, 480)) # create a video writer object, the first argument is the name of the video, the second argument is the codec, the third argument is the fps, the fourth argument is the frame size


# Create a video capture object
cap = cv2.VideoCapture(1) # 0 is the default camera

# Create a hand object
mpHands = mp.solutions.hands 


'''
parameters for mpHands.Hands():
    static_image_mode: bool = False, # static_image_mode = False means that we are not using a static image but a video if static_image_mode = True, then we are using a static image 
    static image means that we are using a single image and not a video.
    max_num_hands: int = 2, # maximum number of hands to detect.
    min_detection_confidence: float = 0.5, # minimum confidence value ([0.0, 1.0]) from the landmark-tracking model for the hand landmarks to be considered tracked successfully
    min_tracking_confidence: float = 0.5, # minimum confidence value ([0.0, 1.0]) from the detection model for the hand landmarks to be considered tracked successfully

'''
hands = mpHands.Hands(static_image_mode = False) # static_image_mode = False means that we are not using a static image but a video	.

# Create a drawing object
mpDraw = mp.solutions.drawing_utils

# Create a timer object
pTime = 0 # previous time
cTime = 0 # current time

# while True:

#     # Read the frame
#     _ , frame = cap.read()

#     # Convert the frame to RGB
#     frameRGB = cv2.cvtColor(frame, cv2.COLOR_BGR2RGB)

#     results = hands.process(frameRGB) # process the frame 
#     print(results.multi_hand_landmarks) # print the results of the hand landmarks

#     # Check if we have results
#     if results.multi_hand_landmarks: # if we have results
#         for handLms in results.multi_hand_landmarks: # for each hand landmarks
#             for idd , lm in enumerate(handLms.landmark): # for each landmark
#                 print(idd, lm) # print the id and the landmark
#                 h, w, c = frame.shape # get the height, width and channels of the frame
#                 cx, cy = int(lm.x * w), int(lm.y * h) # get the x and y coordinates of the landmark
#                 print(idd, cx, cy) # print the id and the x and y coordinates of the landmark
#                 if idd == 0: # if the id is 0
#                     cv2.circle(frame, (cx, cy), 25, (255, 0, 255), cv2.FILLED) # draw a circle around the landmark with radius 25 and color (255, 0, 255), cv2.FILLED means that the circle is filled

#             mpDraw.draw_landmarks(frame, handLms, mpHands.HAND_CONNECTIONS) # draw the landmarks and the connections between them

#     # Calculate the fps
#     cTime = time.time() # get the current time
#     fps = 1 / (cTime - pTime) # calculate the fps
#     pTime = cTime # set the previous time to the current time
#     cv2.putText(frame, str(int(fps)), (10, 70), cv2.FONT_HERSHEY_PLAIN, 3, (255, 0, 255), 3) # put the fps on the frame

#     result.write(frame) # save the frame
#     cv2.imshow('Frame', frame) # show the frame

#     # Check if the user pressed the ESC key
#     if cv2.waitKey(1) == 27: # 27 is the code for the ESC key
#         break # break the loop

# Release the video capture object
cap.release()
cv2.destroyAllWindows()



            





import cv2

cap = cv2.VideoCapture(0)  # Try different indices if necessary (0, 2, etc.)

if not cap.isOpened():
    print("Failed to open the camera.")
else:
    # Camera is successfully opened, you can proceed with capturing frames
    while True:
        ret, frame = cap.read()
        if not ret:
            print("Failed to capture frame.")
            break

        # Process the frame here

        cv2.imshow("Frame", frame)

        if cv2.waitKey(1) == ord('q'):
            break

    cap.release()
    cv2.destroyAllWindows()



